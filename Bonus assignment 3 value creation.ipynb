{
 "cells": [
  {
   "cell_type": "code",
   "execution_count": 41,
   "id": "ad9ed333",
   "metadata": {
    "ExecuteTime": {
     "end_time": "2024-02-17T16:14:59.325216Z",
     "start_time": "2024-02-17T16:14:59.313012Z"
    }
   },
   "outputs": [],
   "source": [
    "#importing libraries\n",
    "import requests\n",
    "from bs4 import BeautifulSoup\n",
    "import time\n",
    "import re\n",
    "import pandas as pd\n",
    "from selenium import webdriver\n",
    "from selenium.webdriver import ActionChains\n",
    "from selenium.webdriver.common.by import By\n",
    "import matplotlib as plt"
   ]
  },
  {
   "cell_type": "code",
   "execution_count": 142,
   "id": "5838c793",
   "metadata": {
    "ExecuteTime": {
     "end_time": "2024-02-17T19:04:10.507057Z",
     "start_time": "2024-02-17T19:04:01.339440Z"
    }
   },
   "outputs": [],
   "source": [
    "#starting new browser\n",
    "driver = webdriver.Chrome() # Use driver = webdriver.Chrome(“Path to executable”) if Selenium is unable to identify the Chrome driver executable\n",
    "url = \"https://www.vivino.com/explore\"\n",
    "driver.get(url)"
   ]
  },
  {
   "cell_type": "code",
   "execution_count": 43,
   "id": "45f2935b",
   "metadata": {
    "ExecuteTime": {
     "end_time": "2024-02-17T16:15:25.121026Z",
     "start_time": "2024-02-17T16:15:24.302575Z"
    }
   },
   "outputs": [],
   "source": [
    "#accepting cookies\n",
    "driver.find_element(By.XPATH,'//*[@id=\"didomi-notice-agree-button\"]').click()"
   ]
  },
  {
   "cell_type": "code",
   "execution_count": 44,
   "id": "767e5364",
   "metadata": {
    "ExecuteTime": {
     "end_time": "2024-02-17T16:15:26.661240Z",
     "start_time": "2024-02-17T16:15:26.182522Z"
    }
   },
   "outputs": [
    {
     "name": "stdout",
     "output_type": "stream",
     "text": [
      "25\n"
     ]
    }
   ],
   "source": [
    "#using beautiful soup to count number of wines displayed\n",
    "soup = BeautifulSoup(driver.page_source, \"html.parser\")\n",
    "list_of_wines = soup.find_all(\"div\", class_=\"wineCard__wineCard--2dj2T\")\n",
    "print(len(list_of_wines))"
   ]
  },
  {
   "cell_type": "code",
   "execution_count": 74,
   "id": "ab1e608e",
   "metadata": {
    "ExecuteTime": {
     "end_time": "2024-02-17T16:29:35.196560Z",
     "start_time": "2024-02-17T16:29:35.182812Z"
    }
   },
   "outputs": [
    {
     "name": "stdout",
     "output_type": "stream",
     "text": [
      "hi\n"
     ]
    }
   ],
   "source": [
    "#testing scraping methods for new variables\n",
    "list_of_wines[0].find('div',class_ = re.compile('vivinoRating_averageValue__*')).text\n",
    "\n",
    "\n",
    "if list_of_wines[1].find('span', class_ = re.compile('price_strike.*')) == None:\n",
    "    print('hi')\n",
    "\n",
    "re.findall(r'\\b\\d+\\b',list_of_wines[0].find('div',class_ = re.compile('vivinoRating_caption__.*')).text)\n"
   ]
  },
  {
   "cell_type": "code",
   "execution_count": 78,
   "id": "a607e7cf",
   "metadata": {
    "ExecuteTime": {
     "end_time": "2024-02-17T16:32:17.071241Z",
     "start_time": "2024-02-17T16:32:16.967667Z"
    }
   },
   "outputs": [
    {
     "name": "stdout",
     "output_type": "stream",
     "text": [
      "                                                names prices undiscounted  \\\n",
      "0                 Bellafiore Rosso delle Venezie 2019  11.95       £13.95   \n",
      "1                               Queirón Mi Lugar 2018  24.95         None   \n",
      "2               Amaranta Montepulciano d'Abruzzo 2020  21.99         None   \n",
      "3                              Celsole Primitivo 2022  16.95         None   \n",
      "4   Durigutti Proyecto Las Compuertas Malbec 5 Sue...  22.91       £26.95   \n",
      "5                           Lourens River Valley 2016  24.61       £28.95   \n",
      "6                                    Donatus Red 2018  20.95       £24.65   \n",
      "7                                   Grand Malbec 2019  24.99         None   \n",
      "8                         Neropasso Veneto Rosso 2020  11.95         None   \n",
      "9                        Cuvée Tradition Fronsac 2018  14.36       £17.95   \n",
      "10                                    Haut-Médoc 2018  17.81       £20.95   \n",
      "11                             Dominio de Taurum 2020  14.41       £16.95   \n",
      "12                         Stellenbosch Cinsault 2021  19.99       £26.99   \n",
      "13                           The Chocolate Block 2022  23.99         None   \n",
      "14                             La Mascota Malbec 2021  15.26       £17.95   \n",
      "15                                         Tinto 2018  19.51       £22.95   \n",
      "16                              Mason Road Syrah 2020  17.49         None   \n",
      "17                      Uovo Cabernet - Nebbiolo 2021  22.65         None   \n",
      "18                   Mirea Primitivo di Manduria 2022  23.40         None   \n",
      "19                     Gelso d'Oro Nero di Troia 2020  24.20         None   \n",
      "20                                  Farms Shiraz 2019  23.50         None   \n",
      "21                Bellafiore Rosso delle Venezie 2021  13.64         None   \n",
      "22                                      Richelle 2018  23.89         None   \n",
      "23            Leggermente Appassito Nero d'Avola 2022  15.95         None   \n",
      "24             Malbec de Purcari Limited Edition 2021     22         None   \n",
      "\n",
      "   rating numberOfRaters  \n",
      "0     4.3          [321]  \n",
      "1     4.3         [1032]  \n",
      "2     4.3          [822]  \n",
      "3     4.2           [38]  \n",
      "4     4.2           [25]  \n",
      "5     4.2          [354]  \n",
      "6     4.2           [72]  \n",
      "7     4.2          [470]  \n",
      "8     4.1          [698]  \n",
      "9     4.1          [325]  \n",
      "10    4.1          [379]  \n",
      "11    4.1          [303]  \n",
      "12    4.1          [104]  \n",
      "13    4.1          [286]  \n",
      "14    4.0         [1982]  \n",
      "15    4.0          [220]  \n",
      "16    4.0          [101]  \n",
      "17    4.4           [62]  \n",
      "18    4.4           [48]  \n",
      "19    4.4           [62]  \n",
      "20    4.4           [52]  \n",
      "21    4.3          [321]  \n",
      "22    4.3          [129]  \n",
      "23    4.3           [28]  \n",
      "24    4.3          [569]  \n"
     ]
    }
   ],
   "source": [
    "#gathering data for name, price, undiscounted price, average rating, number of raters\n",
    "wine_data = {'names':[],'prices':[], 'undiscounted':[],'rating':[],'numberOfRaters':[]}\n",
    "for wine in list_of_wines:\n",
    "    wine_data['names'].append(wine.find('div',class_ = re.compile('wineInfoVintage__vintage.*')).text)\n",
    "    price_tag = wine.find('div',class_ = re.compile('addToCartButton__price.*'))\n",
    "    wine_data['prices'].append(price_tag.find_all('div')[1].text)\n",
    "    if wine.find('span',class_ = re.compile('price_strike.*')) == None:\n",
    "        wine_data['undiscounted'].append('None')\n",
    "    else:\n",
    "        wine_data['undiscounted'].append(wine.find('span',class_ = re.compile('price_strike.*')).text)\n",
    "    wine_data['rating'].append(wine.find('div',class_ = re.compile('vivinoRating_averageValue__*')).text)\n",
    "    wine_data['numberOfRaters'].append(re.findall(r'\\b\\d+\\b',(wine.find('div',class_ = re.compile('vivinoRating_caption__.*')).text)))\n",
    "print(pd.DataFrame(wine_data))"
   ]
  },
  {
   "cell_type": "markdown",
   "id": "f3d2a93c",
   "metadata": {
    "ExecuteTime": {
     "end_time": "2024-02-17T17:07:00.103072Z",
     "start_time": "2024-02-17T17:07:00.094116Z"
    }
   },
   "source": [
    "## Describe why you would collect this data in the context of identifying arbitrage opportunities:\n",
    "\n",
    "Using the discounted prices and normal prices, one could compare these selling prices to competing wine selling websites and in situations where the discounted price is far below the average market price, one could set up an abritrage situation where one buys from vivino and resells on open market websites like amazon at a profit. Additionally, using a metric that factors in the number of reviews and the total review score, you would be able to know which wines are the most popular and are the the most favored. Knowing which are the most popular wines will allow you to help focus your reselling business to focus on high volume products"
   ]
  },
  {
   "cell_type": "code",
   "execution_count": 152,
   "id": "5525289f",
   "metadata": {
    "ExecuteTime": {
     "end_time": "2024-02-17T19:09:24.144497Z",
     "start_time": "2024-02-17T19:09:24.139699Z"
    }
   },
   "outputs": [],
   "source": [
    "  #limiting the number of page scrolls to 20 in order to prevent timeout error in the function "
   ]
  },
  {
   "cell_type": "code",
   "execution_count": 167,
   "id": "17f8307e",
   "metadata": {
    "ExecuteTime": {
     "end_time": "2024-02-17T19:19:34.666714Z",
     "start_time": "2024-02-17T19:19:34.653536Z"
    }
   },
   "outputs": [],
   "source": [
    "#creating a scraping function\n",
    "#url - type in the url website \n",
    "#rating - 1 for top rating 2 for 2nd tier rating\n",
    "#type of wine - red for red and white for white \n",
    "def extract_wine_data(url,rating,type_wine):\n",
    "    \n",
    "    driver = webdriver.Chrome() \n",
    "    driver.get(url)\n",
    "\n",
    "    #accepting cookies\n",
    "    driver.find_element(By.XPATH,'//*[@id=\"didomi-notice-agree-button\"]').click()\n",
    "    \n",
    "    #add in the rating \n",
    "    rating_labs = driver.find_element(By.XPATH,'//div[contains(@class,\"filterByRating\")]')\n",
    "    rating_labs.find_element(By.XPATH,f'.//label[{rating}]').click()\n",
    "    \n",
    "    #add in type of wine\n",
    "    if type_wine == 'white':\n",
    "        type_labs = driver.find_element(By.XPATH,'//div[contains(@class,\"filterByWineType\")]')\n",
    "        type_labs.find_element(By.XPATH,f'.//label[1]').click()\n",
    "        type_labs.find_element(By.XPATH,f'.//label[2]').click()\n",
    "    \n",
    "    \n",
    "    #scrolling to the bottom\n",
    "    last_height = driver.execute_script(\"return document.body.scrollHeight\")\n",
    "    \n",
    "    #limiting the number of page scrolls to 20 in order to prevent timeout error\n",
    "    for i in range(20):\n",
    "    # scrolling down to the bottom\n",
    "        driver.execute_script(\"window.scrollTo(0, document.body.scrollHeight);\")\n",
    "        time.sleep(1.5)\n",
    "    # extracting new scroll height and comparing with the last scroll height (if no difference, stop the function)\n",
    "        new_height = driver.execute_script(\"return document.body.scrollHeight\")\n",
    "\n",
    "        if new_height == last_height:\n",
    "            break\n",
    "        last_height = new_height\n",
    "\n",
    "     #using beautiful soup to get wines\n",
    "    soup = BeautifulSoup(driver.page_source, \"html.parser\")\n",
    "    list_of_wines = soup.find_all(\"div\", class_=\"wineCard__wineCard--2dj2T\")\n",
    "    \n",
    "    \n",
    "    wine_data = {'names':[], 'prices':[], 'undiscounted':[], 'rating':[], 'numberOfRaters':[]}\n",
    "\n",
    "    for wine in list_of_wines:\n",
    "        wine_data['names'].append(wine.find('div', class_=re.compile('wineInfoVintage__vintage.*')).text)\n",
    "        price_tag = wine.find('div', class_=re.compile('addToCartButton__price.*'))\n",
    "        wine_data['prices'].append(price_tag.find_all('div')[1].text)\n",
    "        \n",
    "        if wine.find('span', class_=re.compile('price_strike.*')) is None:\n",
    "            wine_data['undiscounted'].append('None')\n",
    "        else:\n",
    "            wine_data['undiscounted'].append(wine.find('span', class_=re.compile('price_strike.*')).text)\n",
    "        \n",
    "        wine_data['rating'].append(wine.find('div', class_=re.compile('vivinoRating_averageValue__.*')).text)\n",
    "        \n",
    "        # Extracting the number of raters and converting it to an integer\n",
    "        raters_text = wine.find('div', class_=re.compile('vivinoRating_caption__.*')).text\n",
    "        num_raters = re.findall(r'\\b\\d+\\b', raters_text)\n",
    "        if num_raters:\n",
    "            wine_data['numberOfRaters'].append(int(num_raters[0]))\n",
    "        else:\n",
    "            wine_data['numberOfRaters'].append(0)\n",
    "            \n",
    "      \n",
    "    if 'driver' in locals():\n",
    "        driver.quit()\n",
    "\n",
    "    return pd.DataFrame(wine_data)"
   ]
  },
  {
   "cell_type": "code",
   "execution_count": 156,
   "id": "d4df56b5",
   "metadata": {
    "ExecuteTime": {
     "end_time": "2024-02-17T19:11:40.598943Z",
     "start_time": "2024-02-17T19:11:10.915432Z"
    }
   },
   "outputs": [
    {
     "data": {
      "text/html": [
       "<div>\n",
       "<style scoped>\n",
       "    .dataframe tbody tr th:only-of-type {\n",
       "        vertical-align: middle;\n",
       "    }\n",
       "\n",
       "    .dataframe tbody tr th {\n",
       "        vertical-align: top;\n",
       "    }\n",
       "\n",
       "    .dataframe thead th {\n",
       "        text-align: right;\n",
       "    }\n",
       "</style>\n",
       "<table border=\"1\" class=\"dataframe\">\n",
       "  <thead>\n",
       "    <tr style=\"text-align: right;\">\n",
       "      <th></th>\n",
       "      <th>names</th>\n",
       "      <th>prices</th>\n",
       "      <th>undiscounted</th>\n",
       "      <th>rating</th>\n",
       "      <th>numberOfRaters</th>\n",
       "    </tr>\n",
       "  </thead>\n",
       "  <tbody>\n",
       "    <tr>\n",
       "      <th>0</th>\n",
       "      <td>Queirón Mi Lugar 2018</td>\n",
       "      <td>24.95</td>\n",
       "      <td>None</td>\n",
       "      <td>4.3</td>\n",
       "      <td>1032</td>\n",
       "    </tr>\n",
       "    <tr>\n",
       "      <th>1</th>\n",
       "      <td>Bellafiore Rosso delle Venezie 2019</td>\n",
       "      <td>11.95</td>\n",
       "      <td>£13.95</td>\n",
       "      <td>4.3</td>\n",
       "      <td>321</td>\n",
       "    </tr>\n",
       "    <tr>\n",
       "      <th>2</th>\n",
       "      <td>Amaranta Montepulciano d'Abruzzo 2020</td>\n",
       "      <td>21.99</td>\n",
       "      <td>None</td>\n",
       "      <td>4.3</td>\n",
       "      <td>822</td>\n",
       "    </tr>\n",
       "    <tr>\n",
       "      <th>3</th>\n",
       "      <td>Celsole Primitivo 2022</td>\n",
       "      <td>16.95</td>\n",
       "      <td>None</td>\n",
       "      <td>4.2</td>\n",
       "      <td>38</td>\n",
       "    </tr>\n",
       "    <tr>\n",
       "      <th>4</th>\n",
       "      <td>Durigutti Proyecto Las Compuertas Malbec 5 Sue...</td>\n",
       "      <td>22.91</td>\n",
       "      <td>£26.95</td>\n",
       "      <td>4.2</td>\n",
       "      <td>25</td>\n",
       "    </tr>\n",
       "    <tr>\n",
       "      <th>...</th>\n",
       "      <td>...</td>\n",
       "      <td>...</td>\n",
       "      <td>...</td>\n",
       "      <td>...</td>\n",
       "      <td>...</td>\n",
       "    </tr>\n",
       "    <tr>\n",
       "      <th>179</th>\n",
       "      <td>Reserve Petit Verdot 2018</td>\n",
       "      <td>19</td>\n",
       "      <td>None</td>\n",
       "      <td>4.2</td>\n",
       "      <td>91</td>\n",
       "    </tr>\n",
       "    <tr>\n",
       "      <th>180</th>\n",
       "      <td>Shiraz 2020</td>\n",
       "      <td>17.94</td>\n",
       "      <td>None</td>\n",
       "      <td>4.2</td>\n",
       "      <td>281</td>\n",
       "    </tr>\n",
       "    <tr>\n",
       "      <th>181</th>\n",
       "      <td>Stilio Primitivo di Manduria 2021</td>\n",
       "      <td>22.99</td>\n",
       "      <td>None</td>\n",
       "      <td>4.2</td>\n",
       "      <td>2137</td>\n",
       "    </tr>\n",
       "    <tr>\n",
       "      <th>182</th>\n",
       "      <td>Caro Maestro 2018</td>\n",
       "      <td>24.50</td>\n",
       "      <td>None</td>\n",
       "      <td>4.2</td>\n",
       "      <td>56</td>\n",
       "    </tr>\n",
       "    <tr>\n",
       "      <th>183</th>\n",
       "      <td>Gigondas 2019</td>\n",
       "      <td>22.99</td>\n",
       "      <td>None</td>\n",
       "      <td>4.2</td>\n",
       "      <td>194</td>\n",
       "    </tr>\n",
       "  </tbody>\n",
       "</table>\n",
       "<p>184 rows × 5 columns</p>\n",
       "</div>"
      ],
      "text/plain": [
       "                                                 names prices undiscounted  \\\n",
       "0                                Queirón Mi Lugar 2018  24.95         None   \n",
       "1                  Bellafiore Rosso delle Venezie 2019  11.95       £13.95   \n",
       "2                Amaranta Montepulciano d'Abruzzo 2020  21.99         None   \n",
       "3                               Celsole Primitivo 2022  16.95         None   \n",
       "4    Durigutti Proyecto Las Compuertas Malbec 5 Sue...  22.91       £26.95   \n",
       "..                                                 ...    ...          ...   \n",
       "179                          Reserve Petit Verdot 2018     19         None   \n",
       "180                                        Shiraz 2020  17.94         None   \n",
       "181                  Stilio Primitivo di Manduria 2021  22.99         None   \n",
       "182                                  Caro Maestro 2018  24.50         None   \n",
       "183                                      Gigondas 2019  22.99         None   \n",
       "\n",
       "    rating  numberOfRaters  \n",
       "0      4.3            1032  \n",
       "1      4.3             321  \n",
       "2      4.3             822  \n",
       "3      4.2              38  \n",
       "4      4.2              25  \n",
       "..     ...             ...  \n",
       "179    4.2              91  \n",
       "180    4.2             281  \n",
       "181    4.2            2137  \n",
       "182    4.2              56  \n",
       "183    4.2             194  \n",
       "\n",
       "[184 rows x 5 columns]"
      ]
     },
     "execution_count": 156,
     "metadata": {},
     "output_type": "execute_result"
    }
   ],
   "source": [
    "#red wine with top rating \n",
    "red_top = extract_wine_data(\"https://www.vivino.com/explore\",1,'red')\n",
    "red_top"
   ]
  },
  {
   "cell_type": "code",
   "execution_count": 120,
   "id": "07895e76",
   "metadata": {
    "ExecuteTime": {
     "end_time": "2024-02-17T18:46:28.832866Z",
     "start_time": "2024-02-17T18:44:06.802426Z"
    },
    "scrolled": true
   },
   "outputs": [],
   "source": [
    "#red wine with second rating\n",
    "red_second = extract_wine_data(\"https://www.vivino.com/explore\",2,'red')"
   ]
  },
  {
   "cell_type": "code",
   "execution_count": 130,
   "id": "cba52dcd",
   "metadata": {
    "ExecuteTime": {
     "end_time": "2024-02-17T18:52:05.612817Z",
     "start_time": "2024-02-17T18:52:05.597766Z"
    }
   },
   "outputs": [
    {
     "data": {
      "text/html": [
       "<div>\n",
       "<style scoped>\n",
       "    .dataframe tbody tr th:only-of-type {\n",
       "        vertical-align: middle;\n",
       "    }\n",
       "\n",
       "    .dataframe tbody tr th {\n",
       "        vertical-align: top;\n",
       "    }\n",
       "\n",
       "    .dataframe thead th {\n",
       "        text-align: right;\n",
       "    }\n",
       "</style>\n",
       "<table border=\"1\" class=\"dataframe\">\n",
       "  <thead>\n",
       "    <tr style=\"text-align: right;\">\n",
       "      <th></th>\n",
       "      <th>names</th>\n",
       "      <th>prices</th>\n",
       "      <th>undiscounted</th>\n",
       "      <th>rating</th>\n",
       "      <th>numberOfRaters</th>\n",
       "    </tr>\n",
       "  </thead>\n",
       "  <tbody>\n",
       "    <tr>\n",
       "      <th>0</th>\n",
       "      <td>Bellafiore Rosso delle Venezie 2019</td>\n",
       "      <td>11.95</td>\n",
       "      <td>£13.95</td>\n",
       "      <td>4.3</td>\n",
       "      <td>321</td>\n",
       "    </tr>\n",
       "    <tr>\n",
       "      <th>1</th>\n",
       "      <td>Queirón Mi Lugar 2018</td>\n",
       "      <td>24.95</td>\n",
       "      <td>None</td>\n",
       "      <td>4.3</td>\n",
       "      <td>1032</td>\n",
       "    </tr>\n",
       "    <tr>\n",
       "      <th>2</th>\n",
       "      <td>Amaranta Montepulciano d'Abruzzo 2020</td>\n",
       "      <td>21.99</td>\n",
       "      <td>None</td>\n",
       "      <td>4.3</td>\n",
       "      <td>822</td>\n",
       "    </tr>\n",
       "    <tr>\n",
       "      <th>3</th>\n",
       "      <td>Celsole Primitivo 2022</td>\n",
       "      <td>16.95</td>\n",
       "      <td>None</td>\n",
       "      <td>4.2</td>\n",
       "      <td>38</td>\n",
       "    </tr>\n",
       "    <tr>\n",
       "      <th>4</th>\n",
       "      <td>Durigutti Proyecto Las Compuertas Malbec 5 Sue...</td>\n",
       "      <td>22.91</td>\n",
       "      <td>£26.95</td>\n",
       "      <td>4.2</td>\n",
       "      <td>25</td>\n",
       "    </tr>\n",
       "    <tr>\n",
       "      <th>...</th>\n",
       "      <td>...</td>\n",
       "      <td>...</td>\n",
       "      <td>...</td>\n",
       "      <td>...</td>\n",
       "      <td>...</td>\n",
       "    </tr>\n",
       "    <tr>\n",
       "      <th>370</th>\n",
       "      <td>Punta Aquila Primitivo 2020</td>\n",
       "      <td>17.30</td>\n",
       "      <td>None</td>\n",
       "      <td>4.1</td>\n",
       "      <td>135</td>\n",
       "    </tr>\n",
       "    <tr>\n",
       "      <th>371</th>\n",
       "      <td>Santagostino Baglio Sorìa Red 2018</td>\n",
       "      <td>21.90</td>\n",
       "      <td>None</td>\n",
       "      <td>4.1</td>\n",
       "      <td>113</td>\n",
       "    </tr>\n",
       "    <tr>\n",
       "      <th>372</th>\n",
       "      <td>Chianti Classico 2021</td>\n",
       "      <td>24.30</td>\n",
       "      <td>None</td>\n",
       "      <td>4.1</td>\n",
       "      <td>271</td>\n",
       "    </tr>\n",
       "    <tr>\n",
       "      <th>373</th>\n",
       "      <td>Maroccoli Syrah 2019</td>\n",
       "      <td>23.80</td>\n",
       "      <td>None</td>\n",
       "      <td>4.1</td>\n",
       "      <td>115</td>\n",
       "    </tr>\n",
       "    <tr>\n",
       "      <th>374</th>\n",
       "      <td>Galileo Colli Pesaresi Sangiovese Riserva 2020</td>\n",
       "      <td>18.90</td>\n",
       "      <td>None</td>\n",
       "      <td>4.1</td>\n",
       "      <td>43</td>\n",
       "    </tr>\n",
       "  </tbody>\n",
       "</table>\n",
       "<p>375 rows × 5 columns</p>\n",
       "</div>"
      ],
      "text/plain": [
       "                                                 names prices undiscounted  \\\n",
       "0                  Bellafiore Rosso delle Venezie 2019  11.95       £13.95   \n",
       "1                                Queirón Mi Lugar 2018  24.95         None   \n",
       "2                Amaranta Montepulciano d'Abruzzo 2020  21.99         None   \n",
       "3                               Celsole Primitivo 2022  16.95         None   \n",
       "4    Durigutti Proyecto Las Compuertas Malbec 5 Sue...  22.91       £26.95   \n",
       "..                                                 ...    ...          ...   \n",
       "370                        Punta Aquila Primitivo 2020  17.30         None   \n",
       "371                 Santagostino Baglio Sorìa Red 2018  21.90         None   \n",
       "372                              Chianti Classico 2021  24.30         None   \n",
       "373                               Maroccoli Syrah 2019  23.80         None   \n",
       "374     Galileo Colli Pesaresi Sangiovese Riserva 2020  18.90         None   \n",
       "\n",
       "    rating  numberOfRaters  \n",
       "0      4.3             321  \n",
       "1      4.3            1032  \n",
       "2      4.3             822  \n",
       "3      4.2              38  \n",
       "4      4.2              25  \n",
       "..     ...             ...  \n",
       "370    4.1             135  \n",
       "371    4.1             113  \n",
       "372    4.1             271  \n",
       "373    4.1             115  \n",
       "374    4.1              43  \n",
       "\n",
       "[375 rows x 5 columns]"
      ]
     },
     "execution_count": 130,
     "metadata": {},
     "output_type": "execute_result"
    }
   ],
   "source": [
    "red_second"
   ]
  },
  {
   "cell_type": "code",
   "execution_count": 157,
   "id": "7e526fb9",
   "metadata": {
    "ExecuteTime": {
     "end_time": "2024-02-17T19:12:37.458511Z",
     "start_time": "2024-02-17T19:12:37.453339Z"
    }
   },
   "outputs": [],
   "source": [
    "#removing all duplicate values from top rated red wines. the first 183 rows which are top rated\n",
    "red_second_clean = red_second.iloc[183:].reset_index(drop = True)"
   ]
  },
  {
   "cell_type": "code",
   "execution_count": 158,
   "id": "2ce6830c",
   "metadata": {
    "ExecuteTime": {
     "end_time": "2024-02-17T19:12:38.684855Z",
     "start_time": "2024-02-17T19:12:38.674610Z"
    }
   },
   "outputs": [
    {
     "data": {
      "text/html": [
       "<div>\n",
       "<style scoped>\n",
       "    .dataframe tbody tr th:only-of-type {\n",
       "        vertical-align: middle;\n",
       "    }\n",
       "\n",
       "    .dataframe tbody tr th {\n",
       "        vertical-align: top;\n",
       "    }\n",
       "\n",
       "    .dataframe thead th {\n",
       "        text-align: right;\n",
       "    }\n",
       "</style>\n",
       "<table border=\"1\" class=\"dataframe\">\n",
       "  <thead>\n",
       "    <tr style=\"text-align: right;\">\n",
       "      <th></th>\n",
       "      <th>names</th>\n",
       "      <th>prices</th>\n",
       "      <th>undiscounted</th>\n",
       "      <th>rating</th>\n",
       "      <th>numberOfRaters</th>\n",
       "    </tr>\n",
       "  </thead>\n",
       "  <tbody>\n",
       "    <tr>\n",
       "      <th>0</th>\n",
       "      <td>Imagínate El Vino 2019</td>\n",
       "      <td>24.18</td>\n",
       "      <td>None</td>\n",
       "      <td>4.2</td>\n",
       "      <td>132</td>\n",
       "    </tr>\n",
       "    <tr>\n",
       "      <th>1</th>\n",
       "      <td>Caro Maestro 2018</td>\n",
       "      <td>24.50</td>\n",
       "      <td>None</td>\n",
       "      <td>4.2</td>\n",
       "      <td>56</td>\n",
       "    </tr>\n",
       "    <tr>\n",
       "      <th>2</th>\n",
       "      <td>Parcela #7 Gran Reserva 2019</td>\n",
       "      <td>23.50</td>\n",
       "      <td>None</td>\n",
       "      <td>4.2</td>\n",
       "      <td>413</td>\n",
       "    </tr>\n",
       "    <tr>\n",
       "      <th>3</th>\n",
       "      <td>Seismic 2020</td>\n",
       "      <td>16.95</td>\n",
       "      <td>None</td>\n",
       "      <td>4.2</td>\n",
       "      <td>174</td>\n",
       "    </tr>\n",
       "    <tr>\n",
       "      <th>4</th>\n",
       "      <td>Reserva 2016</td>\n",
       "      <td>21.99</td>\n",
       "      <td>None</td>\n",
       "      <td>4.2</td>\n",
       "      <td>131</td>\n",
       "    </tr>\n",
       "    <tr>\n",
       "      <th>...</th>\n",
       "      <td>...</td>\n",
       "      <td>...</td>\n",
       "      <td>...</td>\n",
       "      <td>...</td>\n",
       "      <td>...</td>\n",
       "    </tr>\n",
       "    <tr>\n",
       "      <th>187</th>\n",
       "      <td>Punta Aquila Primitivo 2020</td>\n",
       "      <td>17.30</td>\n",
       "      <td>None</td>\n",
       "      <td>4.1</td>\n",
       "      <td>135</td>\n",
       "    </tr>\n",
       "    <tr>\n",
       "      <th>188</th>\n",
       "      <td>Santagostino Baglio Sorìa Red 2018</td>\n",
       "      <td>21.90</td>\n",
       "      <td>None</td>\n",
       "      <td>4.1</td>\n",
       "      <td>113</td>\n",
       "    </tr>\n",
       "    <tr>\n",
       "      <th>189</th>\n",
       "      <td>Chianti Classico 2021</td>\n",
       "      <td>24.30</td>\n",
       "      <td>None</td>\n",
       "      <td>4.1</td>\n",
       "      <td>271</td>\n",
       "    </tr>\n",
       "    <tr>\n",
       "      <th>190</th>\n",
       "      <td>Maroccoli Syrah 2019</td>\n",
       "      <td>23.80</td>\n",
       "      <td>None</td>\n",
       "      <td>4.1</td>\n",
       "      <td>115</td>\n",
       "    </tr>\n",
       "    <tr>\n",
       "      <th>191</th>\n",
       "      <td>Galileo Colli Pesaresi Sangiovese Riserva 2020</td>\n",
       "      <td>18.90</td>\n",
       "      <td>None</td>\n",
       "      <td>4.1</td>\n",
       "      <td>43</td>\n",
       "    </tr>\n",
       "  </tbody>\n",
       "</table>\n",
       "<p>192 rows × 5 columns</p>\n",
       "</div>"
      ],
      "text/plain": [
       "                                              names prices undiscounted  \\\n",
       "0                            Imagínate El Vino 2019  24.18         None   \n",
       "1                                 Caro Maestro 2018  24.50         None   \n",
       "2                      Parcela #7 Gran Reserva 2019  23.50         None   \n",
       "3                                      Seismic 2020  16.95         None   \n",
       "4                                      Reserva 2016  21.99         None   \n",
       "..                                              ...    ...          ...   \n",
       "187                     Punta Aquila Primitivo 2020  17.30         None   \n",
       "188              Santagostino Baglio Sorìa Red 2018  21.90         None   \n",
       "189                           Chianti Classico 2021  24.30         None   \n",
       "190                            Maroccoli Syrah 2019  23.80         None   \n",
       "191  Galileo Colli Pesaresi Sangiovese Riserva 2020  18.90         None   \n",
       "\n",
       "    rating  numberOfRaters  \n",
       "0      4.2             132  \n",
       "1      4.2              56  \n",
       "2      4.2             413  \n",
       "3      4.2             174  \n",
       "4      4.2             131  \n",
       "..     ...             ...  \n",
       "187    4.1             135  \n",
       "188    4.1             113  \n",
       "189    4.1             271  \n",
       "190    4.1             115  \n",
       "191    4.1              43  \n",
       "\n",
       "[192 rows x 5 columns]"
      ]
     },
     "execution_count": 158,
     "metadata": {},
     "output_type": "execute_result"
    }
   ],
   "source": [
    "red_second_clean"
   ]
  },
  {
   "cell_type": "code",
   "execution_count": 168,
   "id": "06f73ae6",
   "metadata": {
    "ExecuteTime": {
     "end_time": "2024-02-17T19:20:28.534962Z",
     "start_time": "2024-02-17T19:19:40.135314Z"
    }
   },
   "outputs": [],
   "source": [
    "#white wine with top rating \n",
    "white_top = extract_wine_data(\"https://www.vivino.com/explore\",1,'white')"
   ]
  },
  {
   "cell_type": "code",
   "execution_count": 169,
   "id": "d3b871df",
   "metadata": {
    "ExecuteTime": {
     "end_time": "2024-02-17T19:20:29.707255Z",
     "start_time": "2024-02-17T19:20:29.695590Z"
    }
   },
   "outputs": [
    {
     "data": {
      "text/html": [
       "<div>\n",
       "<style scoped>\n",
       "    .dataframe tbody tr th:only-of-type {\n",
       "        vertical-align: middle;\n",
       "    }\n",
       "\n",
       "    .dataframe tbody tr th {\n",
       "        vertical-align: top;\n",
       "    }\n",
       "\n",
       "    .dataframe thead th {\n",
       "        text-align: right;\n",
       "    }\n",
       "</style>\n",
       "<table border=\"1\" class=\"dataframe\">\n",
       "  <thead>\n",
       "    <tr style=\"text-align: right;\">\n",
       "      <th></th>\n",
       "      <th>names</th>\n",
       "      <th>prices</th>\n",
       "      <th>undiscounted</th>\n",
       "      <th>rating</th>\n",
       "      <th>numberOfRaters</th>\n",
       "    </tr>\n",
       "  </thead>\n",
       "  <tbody>\n",
       "    <tr>\n",
       "      <th>0</th>\n",
       "      <td>Queirón Mi Lugar 2018</td>\n",
       "      <td>24.95</td>\n",
       "      <td>None</td>\n",
       "      <td>4.3</td>\n",
       "      <td>1032</td>\n",
       "    </tr>\n",
       "    <tr>\n",
       "      <th>1</th>\n",
       "      <td>Bellafiore Rosso delle Venezie 2019</td>\n",
       "      <td>11.95</td>\n",
       "      <td>£13.95</td>\n",
       "      <td>4.3</td>\n",
       "      <td>321</td>\n",
       "    </tr>\n",
       "    <tr>\n",
       "      <th>2</th>\n",
       "      <td>Amaranta Montepulciano d'Abruzzo 2020</td>\n",
       "      <td>21.99</td>\n",
       "      <td>None</td>\n",
       "      <td>4.3</td>\n",
       "      <td>822</td>\n",
       "    </tr>\n",
       "    <tr>\n",
       "      <th>3</th>\n",
       "      <td>Celsole Primitivo 2022</td>\n",
       "      <td>16.95</td>\n",
       "      <td>None</td>\n",
       "      <td>4.2</td>\n",
       "      <td>38</td>\n",
       "    </tr>\n",
       "    <tr>\n",
       "      <th>4</th>\n",
       "      <td>Durigutti Proyecto Las Compuertas Malbec 5 Sue...</td>\n",
       "      <td>22.91</td>\n",
       "      <td>£26.95</td>\n",
       "      <td>4.2</td>\n",
       "      <td>25</td>\n",
       "    </tr>\n",
       "    <tr>\n",
       "      <th>...</th>\n",
       "      <td>...</td>\n",
       "      <td>...</td>\n",
       "      <td>...</td>\n",
       "      <td>...</td>\n",
       "      <td>...</td>\n",
       "    </tr>\n",
       "    <tr>\n",
       "      <th>132</th>\n",
       "      <td>Valencay 2021</td>\n",
       "      <td>15.31</td>\n",
       "      <td>None</td>\n",
       "      <td>4.2</td>\n",
       "      <td>45</td>\n",
       "    </tr>\n",
       "    <tr>\n",
       "      <th>133</th>\n",
       "      <td>Les Trois Schistes Côteaux de l'Aubance 2018</td>\n",
       "      <td>24.95</td>\n",
       "      <td>None</td>\n",
       "      <td>4.2</td>\n",
       "      <td>53</td>\n",
       "    </tr>\n",
       "    <tr>\n",
       "      <th>134</th>\n",
       "      <td>Clos de la Thibaudière Saumur Blanc 2013</td>\n",
       "      <td>24</td>\n",
       "      <td>None</td>\n",
       "      <td>4.2</td>\n",
       "      <td>39</td>\n",
       "    </tr>\n",
       "    <tr>\n",
       "      <th>135</th>\n",
       "      <td>Weiss 2020</td>\n",
       "      <td>24.21</td>\n",
       "      <td>None</td>\n",
       "      <td>4.2</td>\n",
       "      <td>299</td>\n",
       "    </tr>\n",
       "    <tr>\n",
       "      <th>136</th>\n",
       "      <td>Terras Gauda O'Rosal 2022</td>\n",
       "      <td>19.99</td>\n",
       "      <td>None</td>\n",
       "      <td>4.2</td>\n",
       "      <td>3117</td>\n",
       "    </tr>\n",
       "  </tbody>\n",
       "</table>\n",
       "<p>137 rows × 5 columns</p>\n",
       "</div>"
      ],
      "text/plain": [
       "                                                 names prices undiscounted  \\\n",
       "0                                Queirón Mi Lugar 2018  24.95         None   \n",
       "1                  Bellafiore Rosso delle Venezie 2019  11.95       £13.95   \n",
       "2                Amaranta Montepulciano d'Abruzzo 2020  21.99         None   \n",
       "3                               Celsole Primitivo 2022  16.95         None   \n",
       "4    Durigutti Proyecto Las Compuertas Malbec 5 Sue...  22.91       £26.95   \n",
       "..                                                 ...    ...          ...   \n",
       "132                                      Valencay 2021  15.31         None   \n",
       "133       Les Trois Schistes Côteaux de l'Aubance 2018  24.95         None   \n",
       "134           Clos de la Thibaudière Saumur Blanc 2013     24         None   \n",
       "135                                         Weiss 2020  24.21         None   \n",
       "136                          Terras Gauda O'Rosal 2022  19.99         None   \n",
       "\n",
       "    rating  numberOfRaters  \n",
       "0      4.3            1032  \n",
       "1      4.3             321  \n",
       "2      4.3             822  \n",
       "3      4.2              38  \n",
       "4      4.2              25  \n",
       "..     ...             ...  \n",
       "132    4.2              45  \n",
       "133    4.2              53  \n",
       "134    4.2              39  \n",
       "135    4.2             299  \n",
       "136    4.2            3117  \n",
       "\n",
       "[137 rows x 5 columns]"
      ]
     },
     "execution_count": 169,
     "metadata": {},
     "output_type": "execute_result"
    }
   ],
   "source": [
    "white_top"
   ]
  },
  {
   "cell_type": "code",
   "execution_count": 170,
   "id": "4b8641e7",
   "metadata": {
    "ExecuteTime": {
     "end_time": "2024-02-17T19:25:58.519758Z",
     "start_time": "2024-02-17T19:20:35.646412Z"
    }
   },
   "outputs": [],
   "source": [
    "#white wine with top rating \n",
    "white_second = extract_wine_data(\"https://www.vivino.com/explore\",2,'white')"
   ]
  },
  {
   "cell_type": "code",
   "execution_count": 171,
   "id": "2531f81b",
   "metadata": {
    "ExecuteTime": {
     "end_time": "2024-02-17T19:26:01.871291Z",
     "start_time": "2024-02-17T19:26:01.859343Z"
    }
   },
   "outputs": [
    {
     "data": {
      "text/html": [
       "<div>\n",
       "<style scoped>\n",
       "    .dataframe tbody tr th:only-of-type {\n",
       "        vertical-align: middle;\n",
       "    }\n",
       "\n",
       "    .dataframe tbody tr th {\n",
       "        vertical-align: top;\n",
       "    }\n",
       "\n",
       "    .dataframe thead th {\n",
       "        text-align: right;\n",
       "    }\n",
       "</style>\n",
       "<table border=\"1\" class=\"dataframe\">\n",
       "  <thead>\n",
       "    <tr style=\"text-align: right;\">\n",
       "      <th></th>\n",
       "      <th>names</th>\n",
       "      <th>prices</th>\n",
       "      <th>undiscounted</th>\n",
       "      <th>rating</th>\n",
       "      <th>numberOfRaters</th>\n",
       "    </tr>\n",
       "  </thead>\n",
       "  <tbody>\n",
       "    <tr>\n",
       "      <th>0</th>\n",
       "      <td>Queirón Mi Lugar 2018</td>\n",
       "      <td>24.95</td>\n",
       "      <td>None</td>\n",
       "      <td>4.3</td>\n",
       "      <td>1032</td>\n",
       "    </tr>\n",
       "    <tr>\n",
       "      <th>1</th>\n",
       "      <td>Bellafiore Rosso delle Venezie 2019</td>\n",
       "      <td>11.95</td>\n",
       "      <td>£13.95</td>\n",
       "      <td>4.3</td>\n",
       "      <td>321</td>\n",
       "    </tr>\n",
       "    <tr>\n",
       "      <th>2</th>\n",
       "      <td>Amaranta Montepulciano d'Abruzzo 2020</td>\n",
       "      <td>21.99</td>\n",
       "      <td>None</td>\n",
       "      <td>4.3</td>\n",
       "      <td>822</td>\n",
       "    </tr>\n",
       "    <tr>\n",
       "      <th>3</th>\n",
       "      <td>Celsole Primitivo 2022</td>\n",
       "      <td>16.95</td>\n",
       "      <td>None</td>\n",
       "      <td>4.2</td>\n",
       "      <td>38</td>\n",
       "    </tr>\n",
       "    <tr>\n",
       "      <th>4</th>\n",
       "      <td>Durigutti Proyecto Las Compuertas Malbec 5 Sue...</td>\n",
       "      <td>22.91</td>\n",
       "      <td>£26.95</td>\n",
       "      <td>4.2</td>\n",
       "      <td>25</td>\n",
       "    </tr>\n",
       "    <tr>\n",
       "      <th>...</th>\n",
       "      <td>...</td>\n",
       "      <td>...</td>\n",
       "      <td>...</td>\n",
       "      <td>...</td>\n",
       "      <td>...</td>\n",
       "    </tr>\n",
       "    <tr>\n",
       "      <th>520</th>\n",
       "      <td>Torre de Vila Nova Vinho Verde 2022</td>\n",
       "      <td>10.97</td>\n",
       "      <td>None</td>\n",
       "      <td>4.0</td>\n",
       "      <td>47</td>\n",
       "    </tr>\n",
       "    <tr>\n",
       "      <th>521</th>\n",
       "      <td>Sauvignon Blanc 2021</td>\n",
       "      <td>12.24</td>\n",
       "      <td>None</td>\n",
       "      <td>4.0</td>\n",
       "      <td>102</td>\n",
       "    </tr>\n",
       "    <tr>\n",
       "      <th>522</th>\n",
       "      <td>Sancerre Silex 2022</td>\n",
       "      <td>24.86</td>\n",
       "      <td>None</td>\n",
       "      <td>4.0</td>\n",
       "      <td>600</td>\n",
       "    </tr>\n",
       "    <tr>\n",
       "      <th>523</th>\n",
       "      <td>Pinot Gris Alsace Grand Cru Brand 2017</td>\n",
       "      <td>19.84</td>\n",
       "      <td>None</td>\n",
       "      <td>4.0</td>\n",
       "      <td>317</td>\n",
       "    </tr>\n",
       "    <tr>\n",
       "      <th>524</th>\n",
       "      <td>Chardonnay 2021</td>\n",
       "      <td>24.90</td>\n",
       "      <td>None</td>\n",
       "      <td>4.0</td>\n",
       "      <td>887</td>\n",
       "    </tr>\n",
       "  </tbody>\n",
       "</table>\n",
       "<p>525 rows × 5 columns</p>\n",
       "</div>"
      ],
      "text/plain": [
       "                                                 names prices undiscounted  \\\n",
       "0                                Queirón Mi Lugar 2018  24.95         None   \n",
       "1                  Bellafiore Rosso delle Venezie 2019  11.95       £13.95   \n",
       "2                Amaranta Montepulciano d'Abruzzo 2020  21.99         None   \n",
       "3                               Celsole Primitivo 2022  16.95         None   \n",
       "4    Durigutti Proyecto Las Compuertas Malbec 5 Sue...  22.91       £26.95   \n",
       "..                                                 ...    ...          ...   \n",
       "520                Torre de Vila Nova Vinho Verde 2022  10.97         None   \n",
       "521                               Sauvignon Blanc 2021  12.24         None   \n",
       "522                                Sancerre Silex 2022  24.86         None   \n",
       "523             Pinot Gris Alsace Grand Cru Brand 2017  19.84         None   \n",
       "524                                    Chardonnay 2021  24.90         None   \n",
       "\n",
       "    rating  numberOfRaters  \n",
       "0      4.3            1032  \n",
       "1      4.3             321  \n",
       "2      4.3             822  \n",
       "3      4.2              38  \n",
       "4      4.2              25  \n",
       "..     ...             ...  \n",
       "520    4.0              47  \n",
       "521    4.0             102  \n",
       "522    4.0             600  \n",
       "523    4.0             317  \n",
       "524    4.0             887  \n",
       "\n",
       "[525 rows x 5 columns]"
      ]
     },
     "execution_count": 171,
     "metadata": {},
     "output_type": "execute_result"
    }
   ],
   "source": [
    "white_second"
   ]
  },
  {
   "cell_type": "code",
   "execution_count": 172,
   "id": "3c040c09",
   "metadata": {
    "ExecuteTime": {
     "end_time": "2024-02-17T19:27:25.109014Z",
     "start_time": "2024-02-17T19:27:25.104619Z"
    }
   },
   "outputs": [],
   "source": [
    "#removing the first 136 rows which are top rated whites\n",
    "white_second_clean = white_second.iloc[136:].reset_index(drop = True)"
   ]
  },
  {
   "cell_type": "code",
   "execution_count": 173,
   "id": "b317b24d",
   "metadata": {
    "ExecuteTime": {
     "end_time": "2024-02-17T19:27:40.786494Z",
     "start_time": "2024-02-17T19:27:40.776429Z"
    }
   },
   "outputs": [
    {
     "data": {
      "text/html": [
       "<div>\n",
       "<style scoped>\n",
       "    .dataframe tbody tr th:only-of-type {\n",
       "        vertical-align: middle;\n",
       "    }\n",
       "\n",
       "    .dataframe tbody tr th {\n",
       "        vertical-align: top;\n",
       "    }\n",
       "\n",
       "    .dataframe thead th {\n",
       "        text-align: right;\n",
       "    }\n",
       "</style>\n",
       "<table border=\"1\" class=\"dataframe\">\n",
       "  <thead>\n",
       "    <tr style=\"text-align: right;\">\n",
       "      <th></th>\n",
       "      <th>names</th>\n",
       "      <th>prices</th>\n",
       "      <th>undiscounted</th>\n",
       "      <th>rating</th>\n",
       "      <th>numberOfRaters</th>\n",
       "    </tr>\n",
       "  </thead>\n",
       "  <tbody>\n",
       "    <tr>\n",
       "      <th>0</th>\n",
       "      <td>Bortolo Vigne Vecchie Soave Classico 2017</td>\n",
       "      <td>19.75</td>\n",
       "      <td>None</td>\n",
       "      <td>4.2</td>\n",
       "      <td>125</td>\n",
       "    </tr>\n",
       "    <tr>\n",
       "      <th>1</th>\n",
       "      <td>Tokaji Szamorodni 2019</td>\n",
       "      <td>14.99</td>\n",
       "      <td>None</td>\n",
       "      <td>4.2</td>\n",
       "      <td>25</td>\n",
       "    </tr>\n",
       "    <tr>\n",
       "      <th>2</th>\n",
       "      <td>La Collection Côtes de Thau Blanc 2021</td>\n",
       "      <td>20.52</td>\n",
       "      <td>None</td>\n",
       "      <td>4.2</td>\n",
       "      <td>90</td>\n",
       "    </tr>\n",
       "    <tr>\n",
       "      <th>3</th>\n",
       "      <td>Valencay 2021</td>\n",
       "      <td>15.31</td>\n",
       "      <td>None</td>\n",
       "      <td>4.2</td>\n",
       "      <td>45</td>\n",
       "    </tr>\n",
       "    <tr>\n",
       "      <th>4</th>\n",
       "      <td>Les Trois Schistes Côteaux de l'Aubance 2018</td>\n",
       "      <td>24.95</td>\n",
       "      <td>None</td>\n",
       "      <td>4.2</td>\n",
       "      <td>53</td>\n",
       "    </tr>\n",
       "    <tr>\n",
       "      <th>...</th>\n",
       "      <td>...</td>\n",
       "      <td>...</td>\n",
       "      <td>...</td>\n",
       "      <td>...</td>\n",
       "      <td>...</td>\n",
       "    </tr>\n",
       "    <tr>\n",
       "      <th>384</th>\n",
       "      <td>Torre de Vila Nova Vinho Verde 2022</td>\n",
       "      <td>10.97</td>\n",
       "      <td>None</td>\n",
       "      <td>4.0</td>\n",
       "      <td>47</td>\n",
       "    </tr>\n",
       "    <tr>\n",
       "      <th>385</th>\n",
       "      <td>Sauvignon Blanc 2021</td>\n",
       "      <td>12.24</td>\n",
       "      <td>None</td>\n",
       "      <td>4.0</td>\n",
       "      <td>102</td>\n",
       "    </tr>\n",
       "    <tr>\n",
       "      <th>386</th>\n",
       "      <td>Sancerre Silex 2022</td>\n",
       "      <td>24.86</td>\n",
       "      <td>None</td>\n",
       "      <td>4.0</td>\n",
       "      <td>600</td>\n",
       "    </tr>\n",
       "    <tr>\n",
       "      <th>387</th>\n",
       "      <td>Pinot Gris Alsace Grand Cru Brand 2017</td>\n",
       "      <td>19.84</td>\n",
       "      <td>None</td>\n",
       "      <td>4.0</td>\n",
       "      <td>317</td>\n",
       "    </tr>\n",
       "    <tr>\n",
       "      <th>388</th>\n",
       "      <td>Chardonnay 2021</td>\n",
       "      <td>24.90</td>\n",
       "      <td>None</td>\n",
       "      <td>4.0</td>\n",
       "      <td>887</td>\n",
       "    </tr>\n",
       "  </tbody>\n",
       "</table>\n",
       "<p>389 rows × 5 columns</p>\n",
       "</div>"
      ],
      "text/plain": [
       "                                            names prices undiscounted rating  \\\n",
       "0       Bortolo Vigne Vecchie Soave Classico 2017  19.75         None    4.2   \n",
       "1                          Tokaji Szamorodni 2019  14.99         None    4.2   \n",
       "2          La Collection Côtes de Thau Blanc 2021  20.52         None    4.2   \n",
       "3                                   Valencay 2021  15.31         None    4.2   \n",
       "4    Les Trois Schistes Côteaux de l'Aubance 2018  24.95         None    4.2   \n",
       "..                                            ...    ...          ...    ...   \n",
       "384           Torre de Vila Nova Vinho Verde 2022  10.97         None    4.0   \n",
       "385                          Sauvignon Blanc 2021  12.24         None    4.0   \n",
       "386                           Sancerre Silex 2022  24.86         None    4.0   \n",
       "387        Pinot Gris Alsace Grand Cru Brand 2017  19.84         None    4.0   \n",
       "388                               Chardonnay 2021  24.90         None    4.0   \n",
       "\n",
       "     numberOfRaters  \n",
       "0               125  \n",
       "1                25  \n",
       "2                90  \n",
       "3                45  \n",
       "4                53  \n",
       "..              ...  \n",
       "384              47  \n",
       "385             102  \n",
       "386             600  \n",
       "387             317  \n",
       "388             887  \n",
       "\n",
       "[389 rows x 5 columns]"
      ]
     },
     "execution_count": 173,
     "metadata": {},
     "output_type": "execute_result"
    }
   ],
   "source": [
    "white_second_clean"
   ]
  },
  {
   "cell_type": "code",
   "execution_count": 186,
   "id": "f6af70e1",
   "metadata": {
    "ExecuteTime": {
     "end_time": "2024-02-17T19:49:51.092799Z",
     "start_time": "2024-02-17T19:49:51.084465Z"
    }
   },
   "outputs": [],
   "source": [
    "#converting all prices and ratings to numbers\n",
    "red_top['prices'] = red_top['prices'].astype(float)\n",
    "red_second_clean['prices'] = red_second_clean['prices'].astype(float)\n",
    "white_top['prices'] = white_top['prices'].astype(float)\n",
    "white_second_clean['prices'] = white_second_clean['prices'].astype(float)\n",
    "red_top['rating'] = red_top['rating'].astype(float)\n",
    "red_second_clean['rating'] = red_second_clean['rating'].astype(float)\n",
    "white_top['rating'] = white_top['rating'].astype(float)\n",
    "white_second_clean['rating'] = white_second_clean['rating'].astype(float)"
   ]
  },
  {
   "cell_type": "code",
   "execution_count": 187,
   "id": "86909339",
   "metadata": {
    "ExecuteTime": {
     "end_time": "2024-02-17T19:49:53.042710Z",
     "start_time": "2024-02-17T19:49:52.854503Z"
    }
   },
   "outputs": [
    {
     "data": {
      "text/plain": [
       "<Axes: title={'center': 'prices'}>"
      ]
     },
     "execution_count": 187,
     "metadata": {},
     "output_type": "execute_result"
    },
    {
     "data": {
      "image/png": "[encoded data removed]",
      "text/plain": [
       "<Figure size 640x480 with 1 Axes>"
      ]
     },
     "metadata": {},
     "output_type": "display_data"
    }
   ],
   "source": [
    "plotdata = pd.DataFrame({'prices':[red_top['prices'].mean(),red_second_clean['prices'].mean(),white_top['prices'].mean(),white_second_clean['prices'].mean()]},index=['Red_top','Red_second','White_top','White_second'])\n",
    "plotdata['prices'].plot(kind='bar', title='prices')"
   ]
  },
  {
   "cell_type": "code",
   "execution_count": 188,
   "id": "18e4c8f0",
   "metadata": {
    "ExecuteTime": {
     "end_time": "2024-02-17T19:49:53.760308Z",
     "start_time": "2024-02-17T19:49:53.589881Z"
    }
   },
   "outputs": [
    {
     "data": {
      "text/plain": [
       "<Axes: title={'center': 'rating'}>"
      ]
     },
     "execution_count": 188,
     "metadata": {},
     "output_type": "execute_result"
    },
    {
     "data": {
      "image/png": "[encoded data removed]",
      "text/plain": [
       "<Figure size 640x480 with 1 Axes>"
      ]
     },
     "metadata": {},
     "output_type": "display_data"
    }
   ],
   "source": [
    "plotdata = pd.DataFrame({'rating':[red_top['rating'].mean(),red_second_clean['rating'].mean(),white_top['rating'].mean(),white_second_clean['rating'].mean()]},index=['Red_top','Red_second','White_top','White_second'])\n",
    "plotdata['rating'].plot(kind='bar', title='rating')"
   ]
  },
  {
   "cell_type": "code",
   "execution_count": 189,
   "id": "8d3224ec",
   "metadata": {
    "ExecuteTime": {
     "end_time": "2024-02-17T19:50:44.755502Z",
     "start_time": "2024-02-17T19:50:44.574297Z"
    }
   },
   "outputs": [
    {
     "data": {
      "text/plain": [
       "<Axes: title={'center': 'numberOfRaters'}>"
      ]
     },
     "execution_count": 189,
     "metadata": {},
     "output_type": "execute_result"
    },
    {
     "data": {
      "image/png": "[encoded data removed]",
      "text/plain": [
       "<Figure size 640x480 with 1 Axes>"
      ]
     },
     "metadata": {},
     "output_type": "display_data"
    }
   ],
   "source": [
    "plotdata = pd.DataFrame({'numberOfRaters':[red_top['numberOfRaters'].mean(),red_second_clean['numberOfRaters'].mean(),white_top['numberOfRaters'].mean(),white_second_clean['numberOfRaters'].mean()]},index=['Red_top','Red_second','White_top','White_second'])\n",
    "plotdata['numberOfRaters'].plot(kind='bar', title='numberOfRaters')"
   ]
  },
  {
   "cell_type": "markdown",
   "id": "95462df9",
   "metadata": {},
   "source": [
    "Top red wines are the most expensive followed by second tier red wines, top white wines and lastky second tier white wines.\n",
    "\n",
    "All wines have a similiar rating, with the top wines having a slightly average rating.\n",
    "\n",
    "Red wines are by far the most bought and hence the most rated wines. \n"
   ]
  },
  {
   "cell_type": "code",
   "execution_count": null,
   "id": "816c892e",
   "metadata": {},
   "outputs": [],
   "source": []
  }
 ],
 "metadata": {
  "kernelspec": {
   "display_name": "deeplearning",
   "language": "python",
   "name": "deeplearning"
  },
  "language_info": {
   "codemirror_mode": {
    "name": "ipython",
    "version": 3
   },
   "file_extension": ".py",
   "mimetype": "text/x-python",
   "name": "python",
   "nbconvert_exporter": "python",
   "pygments_lexer": "ipython3",
   "version": "3.11.7"
  },
  "toc": {
   "base_numbering": 1,
   "nav_menu": {},
   "number_sections": true,
   "sideBar": true,
   "skip_h1_title": false,
   "title_cell": "Table of Contents",
   "title_sidebar": "Contents",
   "toc_cell": false,
   "toc_position": {},
   "toc_section_display": true,
   "toc_window_display": false
  },
  "varInspector": {
   "cols": {
    "lenName": 16,
    "lenType": 16,
    "lenVar": 40
   },
   "kernels_config": {
    "python": {
     "delete_cmd_postfix": "",
     "delete_cmd_prefix": "del ",
     "library": "var_list.py",
     "varRefreshCmd": "print(var_dic_list())"
    },
    "r": {
     "delete_cmd_postfix": ") ",
     "delete_cmd_prefix": "rm(",
     "library": "var_list.r",
     "varRefreshCmd": "cat(var_dic_list()) "
    }
   },
   "types_to_exclude": [
    "module",
    "function",
    "builtin_function_or_method",
    "instance",
    "_Feature"
   ],
   "window_display": false
  }
 },
 "nbformat": 4,
 "nbformat_minor": 5
}
